{
 "cells": [
  {
   "cell_type": "code",
   "id": "initial_id",
   "metadata": {
    "collapsed": true,
    "ExecuteTime": {
     "end_time": "2025-07-20T07:23:38.247816Z",
     "start_time": "2025-07-20T07:23:31.601179Z"
    }
   },
   "source": [
    "import pandas as pd\n",
    "from docling.document_converter import DocumentConverter\n",
    "from tqdm.notebook import tqdm_notebook\n",
    "import re\n",
    "from typing import Any\n",
    "from solutions import sol_day_1, sol_day_2, sol_day_3\n",
    "from utils import convert_qa_to_prompt_answer_format, convert_conversation_to_completion_format"
   ],
   "outputs": [],
   "execution_count": 1
  },
  {
   "metadata": {
    "ExecuteTime": {
     "end_time": "2025-07-20T07:23:38.408318Z",
     "start_time": "2025-07-20T07:23:38.404067Z"
    }
   },
   "cell_type": "code",
   "source": "converter = DocumentConverter()",
   "id": "6cc056b7a17f6f79",
   "outputs": [],
   "execution_count": 2
  },
  {
   "metadata": {
    "ExecuteTime": {
     "end_time": "2025-07-20T07:23:38.427874Z",
     "start_time": "2025-07-20T07:23:38.425561Z"
    }
   },
   "cell_type": "code",
   "source": "task_documents = ['AeP-F2011-1.Tag.pdf', 'AeP-F2011-2.Tag.pdf', 'AeP-F2011-3.Tag.pdf']",
   "id": "f1e85af440e44462",
   "outputs": [],
   "execution_count": 3
  },
  {
   "metadata": {
    "ExecuteTime": {
     "end_time": "2025-07-20T07:25:43.286648Z",
     "start_time": "2025-07-20T07:23:38.437374Z"
    }
   },
   "cell_type": "code",
   "source": [
    "outputs = []\n",
    "documents = []\n",
    "for path in tqdm_notebook(task_documents):\n",
    "    doc = converter.convert(path)\n",
    "    documents.append(doc)\n",
    "    outputs.append(doc.document.export_to_markdown())\n"
   ],
   "id": "b14c7465bfe7d1f9",
   "outputs": [
    {
     "data": {
      "text/plain": [
       "  0%|          | 0/3 [00:00<?, ?it/s]"
      ],
      "application/vnd.jupyter.widget-view+json": {
       "version_major": 2,
       "version_minor": 0,
       "model_id": "a3008f59700c45c5b03e75f439bdd478"
      }
     },
     "metadata": {},
     "output_type": "display_data"
    }
   ],
   "execution_count": 4
  },
  {
   "metadata": {
    "ExecuteTime": {
     "end_time": "2025-07-20T07:25:54.190325Z",
     "start_time": "2025-07-20T07:25:54.184643Z"
    }
   },
   "cell_type": "code",
   "source": [
    "def clean_answers(unclean_answers: list[str]) -> dict[str, Any]:\n",
    "    \"\"\"\n",
    "    Cleans a list of raw question and answer strings by stripping whitespace and formatting\n",
    "    the answers into a dictionary keyed by letter choices (A, B, C, etc.).\n",
    "\n",
    "    :param unclean_answers: A list of strings where the first element is the question and the\n",
    "                            later elements are the unprocessed answer choices.\n",
    "    :return: A dictionary with two keys:\n",
    "             - 'question': the cleaned question string.\n",
    "             - 'choices': a dictionary mapping choice letters ('A', 'B', etc.) to answer strings.\n",
    "    \"\"\"\n",
    "    idx_choice_map = {0:'A', 1:'B', 2:'C', 3:'D', 4:'E', 5:'F', 6:'G', 7:'H', 8:'I', 9:'J', 10:'K', 11:'L', 12:'M', 13:'N'}\n",
    "    question = unclean_answers[0].strip('-').strip()\n",
    "    unclean_answers = unclean_answers[1:]\n",
    "    unclean_answers = [i.strip() for i in unclean_answers]\n",
    "    cleaned_answers = [i.split('\\n', 1)[0] for i in unclean_answers]\n",
    "    return {'question': question, 'choices': {idx_choice_map[num]: answer for num, answer in enumerate(cleaned_answers)}}\n",
    "\n",
    "\n",
    "def extract_singular_question_qa_pairs(output: str, solution_map) -> list[dict[str, Any]]:\n",
    "    \"\"\"\n",
    "    Extracts individual question-answer pairs from a formatted output string and matches each question\n",
    "    with the correct answer letter using a provided solution map.\n",
    "\n",
    "    :param output: The full raw text, which contains a section of individual questions and answers.\n",
    "    :param solution_map: A dictionary mapping question numbers (1-based index) to the correct\n",
    "                         answer letters (e.g., 'A', 'B', etc.).\n",
    "    :return: A list of dictionaries, each containing:\n",
    "             - 'question': the question string,\n",
    "             - 'choices': a dict mapping answer letters to the answer text,\n",
    "             - 'correct_answer_letter': the correct answer letter if valid, otherwise None,\n",
    "             - 'question_id': a numeric ID starting from 1.\n",
    "             Only questions with exactly 5 answer choices and valid answers are included in the final list.\n",
    "    \"\"\"\n",
    "    singular_qa_part = output.split('Fallstudie Nr')[0].split('Einzelaufgaben\\n\\n')[1]\n",
    "    isolated_qa_sections = re.split(r'\\n- \\d+ ', singular_qa_part)\n",
    "    qa_data = [clean_answers(re.split(r'\\s*\\([A-Z]\\)', qa_text)) for qa_text in isolated_qa_sections]\n",
    "    for n, qa_data_point in enumerate(qa_data):\n",
    "        correct_answer_letter = solution_map.get(n+1, None)\n",
    "        if len(qa_data_point['choices']) != 5:\n",
    "            correct_answer_letter = None\n",
    "        qa_data_point['correct_answer_letter'] = correct_answer_letter\n",
    "        qa_data_point['question_id'] = n+1\n",
    "    cleaned_qa_data = [data_point for data_point in qa_data if data_point['correct_answer_letter'] is not None]\n",
    "    return cleaned_qa_data\n",
    "\n"
   ],
   "id": "3e2aa4867c87bb43",
   "outputs": [],
   "execution_count": 5
  },
  {
   "metadata": {
    "ExecuteTime": {
     "end_time": "2025-07-20T07:25:54.209390Z",
     "start_time": "2025-07-20T07:25:54.196324Z"
    }
   },
   "cell_type": "code",
   "source": [
    "final_qa_data = []\n",
    "for out, solution in zip(outputs, [sol_day_1, sol_day_2, sol_day_3]):\n",
    "    output_data = extract_singular_question_qa_pairs(out, solution)\n",
    "    final_qa_data.extend(output_data)"
   ],
   "id": "e51a270552a3258d",
   "outputs": [],
   "execution_count": 6
  },
  {
   "metadata": {
    "ExecuteTime": {
     "end_time": "2025-07-20T07:26:16.904992Z",
     "start_time": "2025-07-20T07:26:16.900915Z"
    }
   },
   "cell_type": "code",
   "source": "len(final_qa_data)",
   "id": "b2ab52490796e10",
   "outputs": [
    {
     "data": {
      "text/plain": [
       "136"
      ]
     },
     "execution_count": 7,
     "metadata": {},
     "output_type": "execute_result"
    }
   ],
   "execution_count": 7
  },
  {
   "metadata": {
    "ExecuteTime": {
     "end_time": "2025-07-20T07:26:28.308914Z",
     "start_time": "2025-07-20T07:26:28.278894Z"
    }
   },
   "cell_type": "code",
   "source": "df = pd.DataFrame(final_qa_data)",
   "id": "3db1edd430254bf",
   "outputs": [],
   "execution_count": 8
  },
  {
   "metadata": {
    "ExecuteTime": {
     "end_time": "2025-07-20T07:26:39.502743Z",
     "start_time": "2025-07-20T07:26:39.491650Z"
    }
   },
   "cell_type": "code",
   "source": "df.to_feather('german_medical_exam_multiple_choice.feather')",
   "id": "6fb204f5fd62eed",
   "outputs": [],
   "execution_count": 9
  },
  {
   "metadata": {
    "ExecuteTime": {
     "end_time": "2025-07-20T07:26:50.254990Z",
     "start_time": "2025-07-20T07:26:50.248343Z"
    }
   },
   "cell_type": "code",
   "source": "df['conversation'] = df.apply(lambda x: convert_qa_to_prompt_answer_format(x['question'], x['choices'], x['correct_answer_letter']), axis=1)",
   "id": "6f3a12cc3f3ed2c3",
   "outputs": [],
   "execution_count": 10
  },
  {
   "metadata": {
    "ExecuteTime": {
     "end_time": "2025-07-20T07:27:01.899242Z",
     "start_time": "2025-07-20T07:27:01.835519Z"
    }
   },
   "cell_type": "code",
   "source": "df = df.explode('conversation')",
   "id": "7adcae29d4a2cb4f",
   "outputs": [],
   "execution_count": 11
  },
  {
   "metadata": {
    "ExecuteTime": {
     "end_time": "2025-07-20T07:27:12.649510Z",
     "start_time": "2025-07-20T07:27:12.638340Z"
    }
   },
   "cell_type": "code",
   "source": "df.to_feather('german_medical_exam_boolean_questions.feather')",
   "id": "b64c5f5802d9a931",
   "outputs": [],
   "execution_count": 12
  },
  {
   "metadata": {
    "ExecuteTime": {
     "end_time": "2025-07-20T07:27:12.669667Z",
     "start_time": "2025-07-20T07:27:12.659511Z"
    }
   },
   "cell_type": "code",
   "source": [
    "df = convert_conversation_to_completion_format(df)\n",
    "df.to_feather('german_medical_exam_multiple_choice_conversation_format.feather')"
   ],
   "id": "80b5233f1dea9a6e",
   "outputs": [],
   "execution_count": 13
  },
  {
   "metadata": {
    "ExecuteTime": {
     "end_time": "2025-07-20T07:27:23.385225Z",
     "start_time": "2025-07-20T07:27:23.381670Z"
    }
   },
   "cell_type": "code",
   "source": "df.shape",
   "id": "64154d47883fded5",
   "outputs": [
    {
     "data": {
      "text/plain": [
       "(680, 7)"
      ]
     },
     "execution_count": 14,
     "metadata": {},
     "output_type": "execute_result"
    }
   ],
   "execution_count": 14
  },
  {
   "metadata": {
    "ExecuteTime": {
     "end_time": "2025-07-20T07:27:46.305008Z",
     "start_time": "2025-07-20T07:27:46.303345Z"
    }
   },
   "cell_type": "code",
   "source": "",
   "id": "15986630b9be79db",
   "outputs": [],
   "execution_count": null
  }
 ],
 "metadata": {
  "kernelspec": {
   "display_name": "Python 3",
   "language": "python",
   "name": "python3"
  },
  "language_info": {
   "codemirror_mode": {
    "name": "ipython",
    "version": 2
   },
   "file_extension": ".py",
   "mimetype": "text/x-python",
   "name": "python",
   "nbconvert_exporter": "python",
   "pygments_lexer": "ipython2",
   "version": "2.7.6"
  }
 },
 "nbformat": 4,
 "nbformat_minor": 5
}
