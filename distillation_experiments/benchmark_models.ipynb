{
 "cells": [
  {
   "cell_type": "code",
   "id": "initial_id",
   "metadata": {
    "collapsed": true,
    "ExecuteTime": {
     "end_time": "2025-07-22T08:47:57.020516Z",
     "start_time": "2025-07-22T08:47:53.094611Z"
    }
   },
   "source": [
    "from data.Benchmark.benchmark import benchmark_and_evaluate_models\n",
    "from utils import load_benchmark_prompts_and_answers"
   ],
   "outputs": [],
   "execution_count": 1
  },
  {
   "metadata": {
    "ExecuteTime": {
     "end_time": "2025-07-22T08:47:57.175421Z",
     "start_time": "2025-07-22T08:47:57.172237Z"
    }
   },
   "cell_type": "code",
   "source": "base_models = ['distillation_checkpoints/distillation_checkpoints/pretrained/checkpoint-141324/checkpoint-141324','distillation_checkpoints/distillation_checkpoints/pretrained/checkpoint-282648/checkpoint-282648','distillation_checkpoints/distillation_checkpoints/pretrained/checkpoint-423972/checkpoint-423972']",
   "id": "f36923cd620a03b7",
   "outputs": [],
   "execution_count": 2
  },
  {
   "metadata": {
    "ExecuteTime": {
     "end_time": "2025-07-22T08:47:57.191934Z",
     "start_time": "2025-07-22T08:47:57.188456Z"
    }
   },
   "cell_type": "code",
   "source": [
    "models_qwen = [\n",
    "    'Qwen/Qwen3-32B',\n",
    "    'Qwen/Qwen3-1.7B',\n",
    "    'distillation_checkpoints/distillation_checkpoints/qwen3/checkpoint-20468',\n",
    "    'distillation_checkpoints/distillation_checkpoints/qwen3/checkpoint-40936',\n",
    "    'distillation_checkpoints/distillation_checkpoints/qwen3/checkpoint-61404'] + base_models\n",
    "qwen_precisions = ['bfloat16' for _ in models_qwen]\n",
    "qwen_precision_map = dict(zip(models_qwen, qwen_precisions))"
   ],
   "id": "1d81626341d34f0a",
   "outputs": [],
   "execution_count": 3
  },
  {
   "metadata": {
    "ExecuteTime": {
     "end_time": "2025-07-22T08:47:57.203548Z",
     "start_time": "2025-07-22T08:47:57.200645Z"
    }
   },
   "cell_type": "code",
   "source": [
    "models_mixtral = ['mistralai/Mixtral-8x7B-Instruct-v0.1',\n",
    "                  'distillation_checkpoints/distillation_checkpoints/mixtral/checkpoint-187466',\n",
    "                  'distillation_checkpoints/distillation_checkpoints/mixtral/checkpoint-374932',\n",
    "                  'distillation_checkpoints/distillation_checkpoints/mixtral/checkpoint-562398',\n",
    "                  ] + base_models\n",
    "mixtral_precisions = ['bfloat16' for _ in models_mixtral]\n",
    "mixtral_precision_map = dict(zip(models_mixtral, mixtral_precisions))"
   ],
   "id": "21ba870b07f9b11b",
   "outputs": [],
   "execution_count": 4
  },
  {
   "metadata": {
    "ExecuteTime": {
     "end_time": "2025-07-22T08:47:57.225609Z",
     "start_time": "2025-07-22T08:47:57.211225Z"
    }
   },
   "cell_type": "code",
   "source": "prompts, answers = load_benchmark_prompts_and_answers()",
   "id": "53f58faede7ca118",
   "outputs": [],
   "execution_count": 5
  },
  {
   "metadata": {
    "ExecuteTime": {
     "end_time": "2025-07-22T10:15:41.262630Z",
     "start_time": "2025-07-22T08:47:57.233959Z"
    }
   },
   "cell_type": "code",
   "source": "qwen_bench = benchmark_and_evaluate_models(models_qwen, prompts, answers, model_precision_dict=qwen_precision_map, unquantized_model=models_qwen[0])",
   "id": "6f47f564c5bfbce",
   "outputs": [
    {
     "data": {
      "text/plain": [
       "Loading checkpoint shards:   0%|          | 0/17 [00:00<?, ?it/s]"
      ],
      "application/vnd.jupyter.widget-view+json": {
       "version_major": 2,
       "version_minor": 0,
       "model_id": "bd1b9cf7782a4ac8a8a3a97201fd18b0"
      }
     },
     "metadata": {},
     "output_type": "display_data"
    },
    {
     "name": "stderr",
     "output_type": "stream",
     "text": [
      "Some parameters are on the meta device because they were offloaded to the cpu.\n",
      "D:\\PycharmProjects\\Thesis\\.venv\\Lib\\site-packages\\torch\\__init__.py:1117: FutureWarning: `torch.distributed.reduce_op` is deprecated, please use `torch.distributed.ReduceOp` instead\n",
      "  return isinstance(obj, torch.Tensor)\n"
     ]
    },
    {
     "data": {
      "text/plain": [
       "Loading checkpoint shards:   0%|          | 0/2 [00:00<?, ?it/s]"
      ],
      "application/vnd.jupyter.widget-view+json": {
       "version_major": 2,
       "version_minor": 0,
       "model_id": "732ce83e09f34d2080e7dcd733b50ad4"
      }
     },
     "metadata": {},
     "output_type": "display_data"
    }
   ],
   "execution_count": 6
  },
  {
   "metadata": {
    "ExecuteTime": {
     "end_time": "2025-07-22T10:15:51.963833Z",
     "start_time": "2025-07-22T10:15:44.511686Z"
    }
   },
   "cell_type": "code",
   "source": "qwen_bench",
   "id": "8e0da3e77b9d2e67",
   "outputs": [
    {
     "data": {
      "text/plain": [
       "{'benchmark_df':                                                   model  \\\n",
       " 0                                        Qwen/Qwen3-32B   \n",
       " 1                                        Qwen/Qwen3-32B   \n",
       " 2                                        Qwen/Qwen3-32B   \n",
       " 3                                        Qwen/Qwen3-32B   \n",
       " 4                                        Qwen/Qwen3-32B   \n",
       " ...                                                 ...   \n",
       " 5435  distillation_checkpoints/distillation_checkpoi...   \n",
       " 5436  distillation_checkpoints/distillation_checkpoi...   \n",
       " 5437  distillation_checkpoints/distillation_checkpoi...   \n",
       " 5438  distillation_checkpoints/distillation_checkpoi...   \n",
       " 5439  distillation_checkpoints/distillation_checkpoi...   \n",
       " \n",
       "                                           probabilities answer  \\\n",
       " 0     [[tensor(2.1050e-13, device='cuda:0', dtype=to...     Ja   \n",
       " 1     [[tensor(2.5202e-14, device='cuda:0', dtype=to...     Ne   \n",
       " 2     [[tensor(3.8881e-11, device='cuda:0', dtype=to...     Ne   \n",
       " 3     [[tensor(1.0019e-12, device='cuda:0', dtype=to...     Ne   \n",
       " 4     [[tensor(8.7930e-14, device='cuda:0', dtype=to...     Ne   \n",
       " ...                                                 ...    ...   \n",
       " 5435  [[tensor(9.0040e-11, device='cuda:0', dtype=to...     Ne   \n",
       " 5436  [[tensor(5.1614e-11, device='cuda:0', dtype=to...     Ne   \n",
       " 5437  [[tensor(1.1596e-10, device='cuda:0', dtype=to...     Ne   \n",
       " 5438  [[tensor(1.6826e-10, device='cuda:0', dtype=to...     Ne   \n",
       " 5439  [[tensor(1.4479e-09, device='cuda:0', dtype=to...     Ja   \n",
       " \n",
       "       answer_confidence                                top_5_probabilities  \\\n",
       " 0              1.000000  {'Ja': 1.0, 'ĠJa': 1.7583370208740234e-06, 'JA...   \n",
       " 1              1.000000  {'Ne': 1.0, 'Ja': 2.1457672119140625e-05, '_ne...   \n",
       " 2              0.851562  {'Ne': 0.8515625, 'Ja': 0.1484375, 'In': 0.000...   \n",
       " 3              1.000000  {'Ne': 1.0, 'Ja': 0.00170135498046875, '_ne': ...   \n",
       " 4              1.000000  {'Ne': 1.0, 'Ja': 0.00012302398681640625, '_ne...   \n",
       " ...                 ...                                                ...   \n",
       " 5435           0.996094  {'Ne': 0.99609375, 'Ja': 0.004058837890625, 'K...   \n",
       " 5436           1.000000  {'Ne': 1.0, 'Ja': 0.00150299072265625, 'Ke': 1...   \n",
       " 5437           0.996094  {'Ne': 0.99609375, 'Ja': 0.0028076171875, 'Ke'...   \n",
       " 5438           0.992188  {'Ne': 0.9921875, 'Ja': 0.006683349609375, 'Ke...   \n",
       " 5439           0.960938  {'Ja': 0.9609375, 'Ne': 0.037353515625, 'ĠJa':...   \n",
       " \n",
       "                                                question correct_answer  \\\n",
       " 0     [{'content': 'Du bist ein medizinischer Expert...             Ja   \n",
       " 1     [{'content': 'Du bist ein medizinischer Expert...           Nein   \n",
       " 2     [{'content': 'Du bist ein medizinischer Expert...           Nein   \n",
       " 3     [{'content': 'Du bist ein medizinischer Expert...           Nein   \n",
       " 4     [{'content': 'Du bist ein medizinischer Expert...           Nein   \n",
       " ...                                                 ...            ...   \n",
       " 5435  [{'content': 'Du bist ein medizinischer Expert...           Nein   \n",
       " 5436  [{'content': 'Du bist ein medizinischer Expert...           Nein   \n",
       " 5437  [{'content': 'Du bist ein medizinischer Expert...             Ja   \n",
       " 5438  [{'content': 'Du bist ein medizinischer Expert...           Nein   \n",
       " 5439  [{'content': 'Du bist ein medizinischer Expert...           Nein   \n",
       " \n",
       "      model_precision  bool_answer  correct_bool_answer  \n",
       " 0           bfloat16         True                 True  \n",
       " 1           bfloat16        False                False  \n",
       " 2           bfloat16        False                False  \n",
       " 3           bfloat16        False                False  \n",
       " 4           bfloat16        False                False  \n",
       " ...              ...          ...                  ...  \n",
       " 5435        bfloat16        False                False  \n",
       " 5436        bfloat16        False                False  \n",
       " 5437        bfloat16        False                 True  \n",
       " 5438        bfloat16        False                False  \n",
       " 5439        bfloat16         True                False  \n",
       " \n",
       " [5440 rows x 10 columns],\n",
       " 'classification_metrics': {'Qwen/Qwen3-32B': {'accuracy': 0.7132352941176471,\n",
       "   'balanced_accuracy': 0.7490808823529411,\n",
       "   'cohen_kappa': 0.3572841133816743},\n",
       "  'Qwen/Qwen3-1.7B': {'accuracy': 0.2426470588235294,\n",
       "   'balanced_accuracy': 0.515625,\n",
       "   'cohen_kappa': 0.013031812955155098},\n",
       "  'distillation_checkpoints/distillation_checkpoints/qwen3/checkpoint-20468': {'accuracy': 0.2,\n",
       "   'balanced_accuracy': 0.5,\n",
       "   'cohen_kappa': 0.0},\n",
       "  'distillation_checkpoints/distillation_checkpoints/qwen3/checkpoint-40936': {'accuracy': 0.2,\n",
       "   'balanced_accuracy': 0.5,\n",
       "   'cohen_kappa': 0.0},\n",
       "  'distillation_checkpoints/distillation_checkpoints/qwen3/checkpoint-61404': {'accuracy': 0.2,\n",
       "   'balanced_accuracy': 0.5,\n",
       "   'cohen_kappa': 0.0},\n",
       "  'distillation_checkpoints/distillation_checkpoints/pretrained/checkpoint-141324/checkpoint-141324': {'accuracy': 0.8088235294117647,\n",
       "   'balanced_accuracy': 0.5275735294117647,\n",
       "   'cohen_kappa': 0.08450704225352113},\n",
       "  'distillation_checkpoints/distillation_checkpoints/pretrained/checkpoint-282648/checkpoint-282648': {'accuracy': 0.8029411764705883,\n",
       "   'balanced_accuracy': 0.5404411764705882,\n",
       "   'cohen_kappa': 0.11609498680738795},\n",
       "  'distillation_checkpoints/distillation_checkpoints/pretrained/checkpoint-423972/checkpoint-423972': {'accuracy': 0.8,\n",
       "   'balanced_accuracy': 0.5386029411764706,\n",
       "   'cohen_kappa': 0.10994764397905765},\n",
       "  'always_false_baseline': {'accuracy': 0.8,\n",
       "   'balanced_accuracy': 0.5,\n",
       "   'cohen_kappa': 0.0}},\n",
       " 'kl_divergence': {'Qwen/Qwen3-1.7B': np.float32(3.4485273),\n",
       "  'distillation_checkpoints/distillation_checkpoints/qwen3/checkpoint-20468': np.float32(3.6005228),\n",
       "  'distillation_checkpoints/distillation_checkpoints/qwen3/checkpoint-40936': np.float32(3.5656724),\n",
       "  'distillation_checkpoints/distillation_checkpoints/qwen3/checkpoint-61404': np.float32(3.5551434),\n",
       "  'distillation_checkpoints/distillation_checkpoints/pretrained/checkpoint-141324/checkpoint-141324': np.float32(2.396112),\n",
       "  'distillation_checkpoints/distillation_checkpoints/pretrained/checkpoint-282648/checkpoint-282648': np.float32(2.2248197),\n",
       "  'distillation_checkpoints/distillation_checkpoints/pretrained/checkpoint-423972/checkpoint-423972': np.float32(2.2033932)},\n",
       " 'hellinger_distance': {'Qwen/Qwen3-1.7B': np.float64(0.5592198363728419),\n",
       "  'distillation_checkpoints/distillation_checkpoints/qwen3/checkpoint-20468': np.float64(0.5677474685121768),\n",
       "  'distillation_checkpoints/distillation_checkpoints/qwen3/checkpoint-40936': np.float64(0.5563377962670979),\n",
       "  'distillation_checkpoints/distillation_checkpoints/qwen3/checkpoint-61404': np.float64(0.5534950556633362),\n",
       "  'distillation_checkpoints/distillation_checkpoints/pretrained/checkpoint-141324/checkpoint-141324': np.float64(0.39345223945972535),\n",
       "  'distillation_checkpoints/distillation_checkpoints/pretrained/checkpoint-282648/checkpoint-282648': np.float64(0.38378111149096067),\n",
       "  'distillation_checkpoints/distillation_checkpoints/pretrained/checkpoint-423972/checkpoint-423972': np.float64(0.38171214195587183)}}"
      ]
     },
     "execution_count": 7,
     "metadata": {},
     "output_type": "execute_result"
    }
   ],
   "execution_count": 7
  },
  {
   "metadata": {
    "ExecuteTime": {
     "end_time": "2025-07-22T10:15:53.967956Z",
     "start_time": "2025-07-22T10:15:53.965330Z"
    }
   },
   "cell_type": "code",
   "source": "# mixtral_bench = benchmark_and_evaluate_models(models_mixtral, prompts, answers, model_precision_dict=mixtral_precision_map, unquantized_model=models_mixtral[0])",
   "id": "2d21152edf675b7e",
   "outputs": [],
   "execution_count": 8
  }
 ],
 "metadata": {
  "kernelspec": {
   "display_name": "Python 3",
   "language": "python",
   "name": "python3"
  },
  "language_info": {
   "codemirror_mode": {
    "name": "ipython",
    "version": 2
   },
   "file_extension": ".py",
   "mimetype": "text/x-python",
   "name": "python",
   "nbconvert_exporter": "python",
   "pygments_lexer": "ipython2",
   "version": "2.7.6"
  }
 },
 "nbformat": 4,
 "nbformat_minor": 5
}
